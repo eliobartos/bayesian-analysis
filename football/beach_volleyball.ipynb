{
 "cells": [
  {
   "cell_type": "code",
   "execution_count": null,
   "metadata": {},
   "outputs": [],
   "source": [
    "# We want to model each player skill in beach volleyball.\n",
    "# We have n players in total and they play 2 vs 2\n",
    "# Each player skill is integer from 1 to max_skil.\n",
    "# They played multiple matches with different pairings.\n",
    "\n",
    "# xi - skill of i-th player\n",
    "# prior: xi ~ uniform\n",
    "# likelihood: If x1 plays with x2 vs x3, x4\n",
    "# (prob of x1, x2 winning) = p = sigmoid( 0.3 * (x1 + x2 - x3 - x4) )\n"
   ]
  },
  {
   "cell_type": "code",
   "execution_count": null,
   "metadata": {},
   "outputs": [],
   "source": [
    "%load_ext autoreload\n",
    "%autoreload 2"
   ]
  },
  {
   "cell_type": "code",
   "execution_count": null,
   "metadata": {},
   "outputs": [],
   "source": [
    "from utils import DiscreteRV\n",
    "from utils.misc import sigmoid\n",
    "import numpy as np"
   ]
  },
  {
   "cell_type": "code",
   "execution_count": null,
   "metadata": {},
   "outputs": [],
   "source": [
    "max_skill = 5\n",
    "n_players = 4\n",
    "skill = range(1, max_skill+1)\n",
    "\n",
    "dists = []\n",
    "for i in range(n_players):\n",
    "    x = DiscreteRV(skill, 1)\n",
    "    x.normalize()\n",
    "    dists.append(x)\n",
    "\n",
    "X = DiscreteRV.from_independent_distributions(dists)\n",
    "print(f\"Len X: {len(X)}\")"
   ]
  },
  {
   "cell_type": "code",
   "execution_count": null,
   "metadata": {},
   "outputs": [],
   "source": [
    "def get_likelihood(X, win_team, lose_team):\n",
    "    i1, i2 = win_team\n",
    "    j1, j2 = lose_team\n",
    "\n",
    "    X_trans = np.array(X.values).T\n",
    "    return sigmoid(0.3 * (X_trans[i1] + X_trans[i2] - X_trans[j1] - X_trans[j2]))\n"
   ]
  },
  {
   "cell_type": "code",
   "execution_count": null,
   "metadata": {},
   "outputs": [],
   "source": [
    "# They all played with each other, player 0 always won\n",
    "matches = [\n",
    "    {'win': [0, 1], 'lose': [2, 3]},\n",
    "    {'win': [0, 2], 'lose': [1, 3]},\n",
    "    {'win': [0, 3], 'lose': [1, 2]}\n",
    "]\n",
    "\n",
    "for match in matches:\n",
    "    X = X * get_likelihood(X, match['win'], match['lose'])"
   ]
  },
  {
   "cell_type": "code",
   "execution_count": null,
   "metadata": {},
   "outputs": [],
   "source": [
    "x0, x1, x2, x3 = X.get_marginal_distributions()"
   ]
  },
  {
   "cell_type": "code",
   "execution_count": null,
   "metadata": {},
   "outputs": [],
   "source": [
    "print(x0.mean(), x1.mean(), x2.mean(), x3.mean())"
   ]
  },
  {
   "cell_type": "code",
   "execution_count": null,
   "metadata": {},
   "outputs": [],
   "source": [
    "x0"
   ]
  },
  {
   "cell_type": "code",
   "execution_count": null,
   "metadata": {},
   "outputs": [],
   "source": [
    "x1"
   ]
  },
  {
   "cell_type": "code",
   "execution_count": null,
   "metadata": {},
   "outputs": [],
   "source": [
    "x2"
   ]
  },
  {
   "cell_type": "code",
   "execution_count": null,
   "metadata": {},
   "outputs": [],
   "source": [
    "x3"
   ]
  },
  {
   "cell_type": "code",
   "execution_count": null,
   "metadata": {},
   "outputs": [],
   "source": []
  }
 ],
 "metadata": {
  "kernelspec": {
   "display_name": "Python 3.9.1 ('.venv': venv)",
   "language": "python",
   "name": "python3"
  },
  "language_info": {
   "codemirror_mode": {
    "name": "ipython",
    "version": 3
   },
   "file_extension": ".py",
   "mimetype": "text/x-python",
   "name": "python",
   "nbconvert_exporter": "python",
   "pygments_lexer": "ipython3",
   "version": "3.9.1"
  },
  "orig_nbformat": 4,
  "vscode": {
   "interpreter": {
    "hash": "26754ab2c47797cfd0f2f55662f7543bb4fc50d4b717114b0232713b3863aed3"
   }
  }
 },
 "nbformat": 4,
 "nbformat_minor": 2
}
